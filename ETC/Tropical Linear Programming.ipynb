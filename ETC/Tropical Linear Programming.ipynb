{
 "cells": [
  {
   "cell_type": "markdown",
   "metadata": {},
   "source": [
    "polymake code to accompany the book project \"Essentials of Tropical Convexity\", http://page.math.tu-berlin.de/~joswig/etc/index.html\n",
    "\n",
    "Author: Michael Joswig"
   ]
  },
  {
   "cell_type": "code",
   "execution_count": 1,
   "metadata": {},
   "outputs": [],
   "source": [
    "application \"polytope\";"
   ]
  },
  {
   "cell_type": "code",
   "execution_count": 2,
   "metadata": {},
   "outputs": [],
   "source": [
    "$LW2 = long_and_winding(2);"
   ]
  },
  {
   "cell_type": "code",
   "execution_count": 3,
   "metadata": {},
   "outputs": [],
   "source": [
    "set_var_names<UniPolynomial<Rational,Rational>>(qw(t));"
   ]
  },
  {
   "cell_type": "code",
   "execution_count": 4,
   "metadata": {},
   "outputs": [
    {
     "data": {
      "text/plain": [
       "name: LW2\n",
       "type: Polytope<PuiseuxFraction<Max, Rational, Rational>>\n",
       "description: Unperturbed long and winding path polytope with parameter 2.\n",
       "\n",
       "\n",
       "AFFINE_HULL\n",
       "\n",
       "\n",
       "BOUNDED\n",
       "true\n",
       "\n",
       "CONE_AMBIENT_DIM\n",
       "5\n",
       "\n",
       "FACETS\n",
       "(5) (0 (t^2)) (1 (- 1))\n",
       "(5) (0 (t)) (2 (- 1))\n",
       "(5) (1 (t)) (3 (- 1))\n",
       "(5) (2 (t)) (3 (- 1))\n",
       "(0) (t^1/2) (t^1/2) (0) (- 1)\n",
       "(5) (3 (1))\n",
       "(5) (4 (1))\n",
       "\n",
       "\n",
       "LP\n",
       "type: LinearProgram<PuiseuxFraction<Max, Rational, Rational>>\n",
       "\n",
       "POINTED\n",
       "true\n",
       "\n",
       "REL_INT_POINT\n",
       "(1) (1/2*t^2) (1/3*t) (1/4*t^2) (1/5*t^5/2)\n"
      ]
     },
     "execution_count": 4,
     "metadata": {},
     "output_type": "execute_result"
    }
   ],
   "source": [
    "$LW2->properties();"
   ]
  },
  {
   "cell_type": "code",
   "execution_count": 5,
   "metadata": {},
   "outputs": [
    {
     "data": {
      "text/plain": [
       "4 true"
      ]
     },
     "execution_count": 5,
     "metadata": {},
     "output_type": "execute_result"
    }
   ],
   "source": [
    "print $LW2->AMBIENT_DIM, \" \", $LW2->FULL_DIM;"
   ]
  },
  {
   "cell_type": "code",
   "execution_count": 6,
   "metadata": {},
   "outputs": [
    {
     "data": {
      "text/plain": [
       "0:(1) (0) (t) (0) (t^3/2)\n",
       "1:(1) (t) (t) (t^2) (2*t^3/2)\n",
       "2:(1) (t^2) (t) (t^2) (t^5/2 + t^3/2)\n",
       "3:(1) (0) (t) (0) (0)\n",
       "4:(1) (0) (0) (0) (0)\n",
       "5:(1) (t^2) (0) (0) (t^5/2)\n",
       "6:(1) (t^2) (t) (0) (t^5/2 + t^3/2)\n",
       "7:(1) (t) (t) (t^2) (0)\n",
       "8:(1) (t^2) (t) (t^2) (0)\n",
       "9:(1) (t^2) (0) (0) (0)\n",
       "10:(1) (t^2) (t) (0) (0)\n"
      ]
     },
     "execution_count": 6,
     "metadata": {},
     "output_type": "execute_result"
    }
   ],
   "source": [
    "print rows_numbered($LW2->VERTICES);"
   ]
  },
  {
   "cell_type": "code",
   "execution_count": 7,
   "metadata": {},
   "outputs": [
    {
     "data": {
      "text/plain": [
       "{2 5 6 8 9 10}\n",
       "{0 1 2 3 6 7 8 10}\n",
       "{0 1 3 4 7}\n",
       "{1 2 4 5 7 8 9}\n",
       "{0 1 2 4 5 6}\n",
       "{0 3 4 5 6 9 10}\n",
       "{3 4 7 8 9 10}\n"
      ]
     },
     "execution_count": 7,
     "metadata": {},
     "output_type": "execute_result"
    }
   ],
   "source": [
    "print $LW2->VERTICES_IN_FACETS;"
   ]
  },
  {
   "cell_type": "code",
   "execution_count": 8,
   "metadata": {},
   "outputs": [
    {
     "data": {
      "text/plain": [
       "FACETS AFFINE_HULL REL_INT_POINT LP BOUNDED POINTED CONE_AMBIENT_DIM CONE_DIM FULL_DIM FEASIBLE LINEALITY_DIM LINEALITY_SPACE COMBINATORIAL_DIM VERTICES VERTICES_IN_FACETS GRAPH"
      ]
     },
     "execution_count": 8,
     "metadata": {},
     "output_type": "execute_result"
    }
   ],
   "source": [
    "print join \" \", $LW2->list_properties;"
   ]
  },
  {
   "cell_type": "code",
   "execution_count": 9,
   "metadata": {},
   "outputs": [
    {
     "data": {
      "text/plain": [
       "(0) (1) (0) (0) (0)"
      ]
     },
     "execution_count": 9,
     "metadata": {},
     "output_type": "execute_result"
    }
   ],
   "source": [
    "print dense($LW2->LP->LINEAR_OBJECTIVE);"
   ]
  },
  {
   "cell_type": "code",
   "execution_count": 10,
   "metadata": {},
   "outputs": [
    {
     "data": {
      "text/plain": [
       "(0)\n",
       "(1) (0) (t) (0) (t^3/2)\n",
       "{0 3 4}\n"
      ]
     },
     "execution_count": 10,
     "metadata": {},
     "output_type": "execute_result"
    }
   ],
   "source": [
    "map { print $LW2->LP->$_, \"\\n\" } (\"MINIMAL_VALUE\", \"MINIMAL_VERTEX\", \"MINIMAL_FACE\");"
   ]
  },
  {
   "cell_type": "code",
   "execution_count": 11,
   "metadata": {},
   "outputs": [
    {
     "data": {
      "text/plain": [
       "16 -1 0 0 0\n",
       "4 0 -1 0 0\n",
       "0 4 0 -1 0\n",
       "0 0 4 -1 0\n",
       "0 2 2 0 -1\n",
       "0 0 0 1 0\n",
       "0 0 0 0 1\n"
      ]
     },
     "execution_count": 11,
     "metadata": {},
     "output_type": "execute_result"
    }
   ],
   "source": [
    "print dense(evaluate($LW2->FACETS,4));"
   ]
  },
  {
   "cell_type": "code",
   "execution_count": 12,
   "metadata": {},
   "outputs": [
    {
     "data": {
      "text/plain": [
       "true"
      ]
     },
     "execution_count": 12,
     "metadata": {},
     "output_type": "execute_result"
    }
   ],
   "source": [
    "$LW2_4F = new Polytope(INEQUALITIES=>evaluate($LW2->FACETS,4));\n",
    "$LW2_4V = new Polytope(POINTS=>evaluate($LW2->VERTICES,4));\n",
    "\n",
    "print equal_polyhedra($LW2_4F,$LW2_4V);"
   ]
  },
  {
   "cell_type": "code",
   "execution_count": 13,
   "metadata": {},
   "outputs": [
    {
     "data": {
      "text/plain": [
       "true"
      ]
     },
     "execution_count": 13,
     "metadata": {},
     "output_type": "execute_result"
    }
   ],
   "source": [
    "$LW2_4 = new Polytope(VERTICES=>evaluate($LW2->VERTICES,4),FACETS=>evaluate($LW2->FACETS,4));\n",
    "print $LW2_4->VERTICES_IN_FACETS == $LW2->VERTICES_IN_FACETS;"
   ]
  },
  {
   "cell_type": "markdown",
   "metadata": {},
   "source": [
    "The `svg` visualization backend works well within ipynb."
   ]
  },
  {
   "cell_type": "code",
   "execution_count": 14,
   "metadata": {},
   "outputs": [
    {
     "data": {
      "text/html": [
       "<?xml version=\"1.0\" encoding=\"UTF-8\" standalone=\"yes\"?>\n",
       "<!DOCTYPE svg PUBLIC \"-//W3C//DTD SVG 1.0//EN\" \"http://www.w3.org/TR/2001/REC-SVG-20010904/DTD/svg10.dtd\">\n",
       "<svg height=\"841pt\" id=\"document\" viewBox=\"0 -811 244.25 811\" width=\"595pt\" xmlns=\"http://www.w3.org/2000/svg\" xmlns:svg=\"http://www.w3.org/2000/svg\" xmlns:xlink=\"http://www.w3.org/1999/xlink\">\n",
       "\t<title id=\"document_title\">Schlegel diagram of LW2_4 on facet 0</title>\n",
       "\t<line stroke=\"rgb(119,236,158)\" stroke-width=\"1\" x1=\"192.463541666667\" x2=\"185.436468646865\" y1=\"-665.598958333333\" y2=\"-58.2590759075908\" />\n",
       "\t<line stroke=\"rgb(119,236,158)\" stroke-width=\"1\" x1=\"218.75\" x2=\"192.463541666667\" y1=\"-774.5\" y2=\"-665.598958333333\" />\n",
       "\t<line stroke=\"rgb(119,236,158)\" stroke-width=\"1\" x1=\"185.436468646865\" x2=\"185.436468646865\" y1=\"-58.2590759075908\" y2=\"-58.2590759075908\" />\n",
       "\t<line stroke=\"rgb(119,236,158)\" stroke-width=\"1\" x1=\"40.8795379537954\" x2=\"185.436468646865\" y1=\"-58.2590759075908\" y2=\"-58.2590759075908\" />\n",
       "\t<line stroke=\"rgb(119,236,158)\" stroke-width=\"1\" x1=\"40.8795379537954\" x2=\"192.463541666667\" y1=\"-58.2590759075908\" y2=\"-665.598958333333\" />\n",
       "\t<line stroke=\"rgb(119,236,158)\" stroke-width=\"1\" x1=\"40.8795379537954\" x2=\"185.436468646865\" y1=\"-58.2590759075908\" y2=\"-58.2590759075908\" />\n",
       "\t<line stroke=\"rgb(0,0,0)\" stroke-width=\"1\" x1=\"38.5\" x2=\"218.75\" y1=\"-53.5\" y2=\"-774.5\" />\n",
       "\t<line stroke=\"rgb(119,236,158)\" stroke-width=\"1\" x1=\"38.5\" x2=\"40.8795379537954\" y1=\"-53.5\" y2=\"-58.2590759075908\" />\n",
       "\t<line stroke=\"rgb(119,236,158)\" stroke-width=\"1\" x1=\"218.75\" x2=\"185.436468646865\" y1=\"-53.5\" y2=\"-58.2590759075908\" />\n",
       "\t<line stroke=\"rgb(0,0,0)\" stroke-width=\"1\" x1=\"218.75\" x2=\"218.75\" y1=\"-53.5\" y2=\"-774.5\" />\n",
       "\t<line stroke=\"rgb(0,0,0)\" stroke-width=\"1\" x1=\"218.75\" x2=\"38.5\" y1=\"-53.5\" y2=\"-53.5\" />\n",
       "\t<line stroke=\"rgb(119,236,158)\" stroke-width=\"1\" x1=\"192.463541666667\" x2=\"192.463541666667\" y1=\"-665.598958333333\" y2=\"-665.598958333333\" />\n",
       "\t<line stroke=\"rgb(119,236,158)\" stroke-width=\"1\" x1=\"192.463541666667\" x2=\"185.436468646865\" y1=\"-665.598958333333\" y2=\"-58.2590759075908\" />\n",
       "\t<line stroke=\"rgb(119,236,158)\" stroke-width=\"1\" x1=\"192.463541666667\" x2=\"40.8795379537954\" y1=\"-665.598958333333\" y2=\"-58.2590759075908\" />\n",
       "\t<line stroke=\"rgb(0,0,0)\" stroke-width=\"1\" x1=\"218.75\" x2=\"218.75\" y1=\"-774.5\" y2=\"-774.5\" />\n",
       "\t<line stroke=\"rgb(119,236,158)\" stroke-width=\"1\" x1=\"218.75\" x2=\"192.463541666667\" y1=\"-774.5\" y2=\"-665.598958333333\" />\n",
       "\t<line stroke=\"rgb(119,236,158)\" stroke-width=\"1\" x1=\"38.5\" x2=\"40.8795379537954\" y1=\"-53.5\" y2=\"-58.2590759075908\" />\n",
       "\t<line stroke=\"rgb(0,0,0)\" stroke-width=\"1\" x1=\"38.5\" x2=\"38.5\" y1=\"-53.5\" y2=\"-53.5\" />\n",
       "\t<line stroke=\"rgb(0,0,0)\" stroke-width=\"1\" x1=\"38.5\" x2=\"218.75\" y1=\"-53.5\" y2=\"-774.5\" />\n",
       "\t<line stroke=\"rgb(119,236,158)\" stroke-width=\"1\" x1=\"218.75\" x2=\"185.436468646865\" y1=\"-53.5\" y2=\"-58.2590759075908\" />\n",
       "\t<line stroke=\"rgb(0,0,0)\" stroke-width=\"1\" x1=\"218.75\" x2=\"218.75\" y1=\"-53.5\" y2=\"-53.5\" />\n",
       "\t<line stroke=\"rgb(0,0,0)\" stroke-width=\"1\" x1=\"218.75\" x2=\"218.75\" y1=\"-53.5\" y2=\"-774.5\" />\n",
       "\t<line stroke=\"rgb(0,0,0)\" stroke-width=\"1\" x1=\"218.75\" x2=\"38.5\" y1=\"-53.5\" y2=\"-53.5\" />\n",
       "\t<circle cx=\"185.436468646865\" cy=\"-58.2590759075908\" r=\"2\" style=\"fill: rgb(255,0,0)\" />\n",
       "\t<text font-family=\"Times-Roman\" font-size=\"10\" text-anchor=\"middle\" x=\"185.436468646865\" y=\"-63.2590759075908\">0</text>\n",
       "\t<circle cx=\"192.463541666667\" cy=\"-665.598958333333\" r=\"2\" style=\"fill: rgb(255,0,0)\" />\n",
       "\t<text font-family=\"Times-Roman\" font-size=\"10\" text-anchor=\"middle\" x=\"192.463541666667\" y=\"-670.598958333333\">1</text>\n",
       "\t<circle cx=\"218.75\" cy=\"-774.5\" r=\"2\" style=\"fill: rgb(255,0,0)\" />\n",
       "\t<text font-family=\"Times-Roman\" font-size=\"10\" text-anchor=\"middle\" x=\"218.75\" y=\"-779.5\">2</text>\n",
       "\t<circle cx=\"185.436468646865\" cy=\"-58.2590759075908\" r=\"2\" style=\"fill: rgb(255,0,0)\" />\n",
       "\t<text font-family=\"Times-Roman\" font-size=\"10\" text-anchor=\"middle\" x=\"185.436468646865\" y=\"-63.2590759075908\">3</text>\n",
       "\t<circle cx=\"40.8795379537954\" cy=\"-58.2590759075908\" r=\"2\" style=\"fill: rgb(255,0,0)\" />\n",
       "\t<text font-family=\"Times-Roman\" font-size=\"10\" text-anchor=\"middle\" x=\"40.8795379537954\" y=\"-63.2590759075908\">4</text>\n",
       "\t<circle cx=\"38.5\" cy=\"-53.5\" r=\"2\" style=\"fill: rgb(255,0,0)\" />\n",
       "\t<text font-family=\"Times-Roman\" font-size=\"10\" text-anchor=\"middle\" x=\"38.5\" y=\"-58.5\">5</text>\n",
       "\t<circle cx=\"218.75\" cy=\"-53.5\" r=\"2\" style=\"fill: rgb(255,0,0)\" />\n",
       "\t<text font-family=\"Times-Roman\" font-size=\"10\" text-anchor=\"middle\" x=\"218.75\" y=\"-58.5\">6</text>\n",
       "\t<circle cx=\"192.463541666667\" cy=\"-665.598958333333\" r=\"2\" style=\"fill: rgb(255,0,0)\" />\n",
       "\t<text font-family=\"Times-Roman\" font-size=\"10\" text-anchor=\"middle\" x=\"192.463541666667\" y=\"-670.598958333333\">7</text>\n",
       "\t<circle cx=\"218.75\" cy=\"-774.5\" r=\"2\" style=\"fill: rgb(255,0,0)\" />\n",
       "\t<text font-family=\"Times-Roman\" font-size=\"10\" text-anchor=\"middle\" x=\"218.75\" y=\"-779.5\">8</text>\n",
       "\t<circle cx=\"38.5\" cy=\"-53.5\" r=\"2\" style=\"fill: rgb(255,0,0)\" />\n",
       "\t<text font-family=\"Times-Roman\" font-size=\"10\" text-anchor=\"middle\" x=\"38.5\" y=\"-58.5\">9</text>\n",
       "\t<circle cx=\"218.75\" cy=\"-53.5\" r=\"2\" style=\"fill: rgb(255,0,0)\" />\n",
       "\t<text font-family=\"Times-Roman\" font-size=\"10\" text-anchor=\"middle\" x=\"218.75\" y=\"-58.5\">10</text>\n",
       "\t<!--\n",
       "\tGenerated using the Perl SVG Module V2.84\n",
       "\tby Ronan Oger\n",
       "\tInfo: http://www.roitsystems.com/\n",
       "\t-->\n",
       "</svg>"
      ]
     },
     "metadata": {},
     "output_type": "display_data"
    },
    {
     "data": {
      "text/html": [
       "<details><summary><pre style=\"display:inline\"><small>Click here for additional output</small></pre></summary>\n",
       "<pre>\n",
       "polymake: used package SVG\n",
       "   Generated using the Perl SVG Module\n",
       "   by Ronan Oger\n",
       "\n",
       "</pre>\n",
       "</details>\n"
      ]
     },
     "metadata": {},
     "output_type": "display_data"
    }
   ],
   "source": [
    "svg($LW2_4->VISUAL);"
   ]
  },
  {
   "cell_type": "code",
   "execution_count": 15,
   "metadata": {},
   "outputs": [
    {
     "data": {
      "text/plain": [
       "(1/4*t^15/2 + 1/3*t^13/2 -1/6*t^11/2)"
      ]
     },
     "execution_count": 15,
     "metadata": {},
     "output_type": "execute_result"
    }
   ],
   "source": [
    "print $LW2->VOLUME;"
   ]
  },
  {
   "cell_type": "code",
   "execution_count": 16,
   "metadata": {},
   "outputs": [
    {
     "data": {
      "text/plain": [
       "31744/3 31744/3"
      ]
     },
     "execution_count": 16,
     "metadata": {},
     "output_type": "execute_result"
    }
   ],
   "source": [
    "print evaluate($LW2->VOLUME,4), \" \", $LW2_4->VOLUME;"
   ]
  }
 ],
 "metadata": {
  "kernelspec": {
   "display_name": "polymake-4.5",
   "language": "polymake",
   "name": "polymake"
  },
  "language_info": {
   "codemirror_mode": "perl",
   "file_extension": ".pl",
   "mimetype": "text/x-polymake",
   "name": "polymake"
  }
 },
 "nbformat": 4,
 "nbformat_minor": 4
}
