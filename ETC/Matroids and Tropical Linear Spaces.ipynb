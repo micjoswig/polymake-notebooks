{
 "cells": [
  {
   "cell_type": "markdown",
   "metadata": {},
   "source": [
    "polymake code to accompany the book project \"Essentials of Tropical Convexity\", http://page.math.tu-berlin.de/~joswig/etc/index.html\n",
    "\n",
    "Author: Michael Joswig"
   ]
  },
  {
   "cell_type": "code",
   "execution_count": 1,
   "metadata": {},
   "outputs": [],
   "source": [
    "application \"matroid\";"
   ]
  },
  {
   "cell_type": "code",
   "execution_count": 2,
   "metadata": {},
   "outputs": [
    {
     "data": {
      "text/plain": [
       "{0 1 2}\n",
       "{0 1 3}\n",
       "{0 1 4}\n",
       "{0 1 5}\n",
       "{0 2 3}\n",
       "{0 2 4}\n",
       "{0 2 6}\n",
       "{0 3 5}\n",
       "{0 3 6}\n",
       "{0 4 5}\n",
       "{0 4 6}\n",
       "{0 5 6}\n",
       "{1 2 4}\n",
       "{1 2 5}\n",
       "{1 2 6}\n",
       "{1 3 4}\n",
       "{1 3 5}\n",
       "{1 3 6}\n",
       "{1 4 6}\n",
       "{1 5 6}\n",
       "{2 3 4}\n",
       "{2 3 5}\n",
       "{2 3 6}\n",
       "{2 4 5}\n",
       "{2 5 6}\n",
       "{3 4 5}\n",
       "{3 4 6}\n",
       "{4 5 6}\n"
      ]
     },
     "execution_count": 2,
     "metadata": {},
     "output_type": "execute_result"
    }
   ],
   "source": [
    "$M = fano_matroid();\n",
    "print $M->BASES;"
   ]
  },
  {
   "cell_type": "code",
   "execution_count": 3,
   "metadata": {
    "scrolled": true
   },
   "outputs": [
    {
     "data": {
      "text/plain": [
       "0:1 1 1\n",
       "1:0 0 1\n",
       "2:0 1 0\n",
       "3:0 1 1\n",
       "4:1 0 0\n",
       "5:1 0 1\n",
       "6:1 1 0\n"
      ]
     },
     "execution_count": 3,
     "metadata": {},
     "output_type": "execute_result"
    }
   ],
   "source": [
    "print rows_numbered($M->BINARY_VECTORS);"
   ]
  },
  {
   "cell_type": "code",
   "execution_count": 4,
   "metadata": {},
   "outputs": [
    {
     "data": {
      "text/plain": [
       "6 7 true"
      ]
     },
     "execution_count": 4,
     "metadata": {},
     "output_type": "execute_result"
    }
   ],
   "source": [
    "print $M->POLYTOPE->DIM, \" \", $M->N_ELEMENTS, \" \", $M->CONNECTED;"
   ]
  },
  {
   "cell_type": "code",
   "execution_count": 5,
   "metadata": {},
   "outputs": [
    {
     "data": {
      "text/plain": [
       "28 126 245 238 112 21"
      ]
     },
     "execution_count": 5,
     "metadata": {},
     "output_type": "execute_result"
    },
    {
     "data": {
      "text/html": [
       "<details><summary><pre style=\"display:inline\"><small>Click here for additional output</small></pre></summary>\n",
       "<pre>\n",
       "polymake: used package ppl\n",
       "  The Parma Polyhedra Library ([[wiki:external_software#PPL]]): A C++ library for convex polyhedra\n",
       "  and other numerical abstractions.\n",
       "  http://www.cs.unipr.it/ppl/\n",
       "\n",
       "</pre>\n",
       "</details>\n"
      ]
     },
     "metadata": {},
     "output_type": "display_data"
    }
   ],
   "source": [
    "print $M->POLYTOPE->F_VECTOR;"
   ]
  },
  {
   "cell_type": "code",
   "execution_count": 6,
   "metadata": {},
   "outputs": [],
   "source": [
    "application \"tropical\";"
   ]
  },
  {
   "cell_type": "code",
   "execution_count": 7,
   "metadata": {},
   "outputs": [],
   "source": [
    "$A = new Matrix([[6,0,45,50,30],[0,10,360,375,9]]);"
   ]
  },
  {
   "cell_type": "code",
   "execution_count": 8,
   "metadata": {},
   "outputs": [],
   "source": [
    "sub m_val {\n",
    "  my ($A,$p) = @_;\n",
    "  my ($m,$n) = ($A->rows(),$A->cols());\n",
    "  my $VA = new Matrix<TropicalNumber<Min>>($m,$n);\n",
    "  for (my $i=0; $i<$m; ++$i) {\n",
    "    for (my $j=0; $j<$n; ++$j) {\n",
    "      $VA->elem($i,$j) = valuation($A->elem($i,$j),$p);\n",
    "    }\n",
    "  }\n",
    "  return $VA;\n",
    "}"
   ]
  },
  {
   "cell_type": "code",
   "execution_count": 9,
   "metadata": {},
   "outputs": [
    {
     "data": {
      "text/plain": [
       "1 inf 0 1 1\n",
       "inf 1 3 0 0\n"
      ]
     },
     "execution_count": 9,
     "metadata": {},
     "output_type": "execute_result"
    },
    {
     "data": {
      "text/html": [
       "<details><summary><pre style=\"display:inline\"><small>Click here for additional output</small></pre></summary>\n",
       "<pre>\n",
       "polymake: used package flint\n",
       "  FLINT is a C library for doing number theory, maintained by William Hart.\n",
       "  http://www.flintlib.org/\n",
       "\n",
       "</pre>\n",
       "</details>\n"
      ]
     },
     "metadata": {},
     "output_type": "display_data"
    }
   ],
   "source": [
    "print m_val($A,2);"
   ]
  },
  {
   "cell_type": "code",
   "execution_count": 10,
   "metadata": {},
   "outputs": [
    {
     "data": {
      "text/plain": [
       "2 4 1 1 1 2 2 0 0 1"
      ]
     },
     "execution_count": 10,
     "metadata": {},
     "output_type": "execute_result"
    }
   ],
   "source": [
    "$pi = tpluecker(m_val(transpose($A),2));\n",
    "print $pi;"
   ]
  },
  {
   "cell_type": "code",
   "execution_count": 11,
   "metadata": {},
   "outputs": [],
   "source": [
    "$S = new fan::SubdivisionOfPoints(POINTS=>polytope::hypersimplex(2,5)->VERTICES,WEIGHTS=>=>$pi);"
   ]
  },
  {
   "cell_type": "code",
   "execution_count": 12,
   "metadata": {},
   "outputs": [
    {
     "data": {
      "text/plain": [
       "{0 1 2 3 4 7 8}\n",
       "{0 2 3 4 5 6 7 8 9}\n"
      ]
     },
     "execution_count": 12,
     "metadata": {},
     "output_type": "execute_result"
    }
   ],
   "source": [
    "print $S->MAXIMAL_CELLS;"
   ]
  },
  {
   "cell_type": "code",
   "execution_count": 13,
   "metadata": {},
   "outputs": [],
   "source": [
    "sub selected_bases {\n",
    "  my ($M,$subset)=@_;\n",
    "  my @b = map { $M->BASES->[$_] } (@$subset);\n",
    "  return new Array<Set<Int>>(@b);\n",
    "}"
   ]
  },
  {
   "cell_type": "code",
   "execution_count": 14,
   "metadata": {},
   "outputs": [],
   "source": [
    "$U25 = matroid::uniform_matroid(2,5);\n",
    "$C = new matroid::Matroid(N_ELEMENTS=>5,BASES=>\n",
    "  selected_bases($U25,$S->MAXIMAL_CELLS->[0]));"
   ]
  },
  {
   "cell_type": "code",
   "execution_count": 15,
   "metadata": {},
   "outputs": [
    {
     "data": {
      "text/plain": [
       "{1 3}\n",
       "{1 4}\n",
       "{3 4}\n",
       "{0 1 2}\n",
       "{0 2 3}\n",
       "{0 2 4}\n"
      ]
     },
     "execution_count": 15,
     "metadata": {},
     "output_type": "execute_result"
    }
   ],
   "source": [
    "print $C->CIRCUITS;"
   ]
  },
  {
   "cell_type": "code",
   "execution_count": null,
   "metadata": {},
   "outputs": [],
   "source": []
  }
 ],
 "metadata": {
  "kernelspec": {
   "display_name": "polymake-4.2",
   "language": "polymake",
   "name": "polymake"
  },
  "language_info": {
   "codemirror_mode": "perl",
   "file_extension": ".pl",
   "mimetype": "text/x-polymake",
   "name": "polymake"
  }
 },
 "nbformat": 4,
 "nbformat_minor": 4
}
