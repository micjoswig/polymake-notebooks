{
 "cells": [
  {
   "cell_type": "markdown",
   "metadata": {},
   "source": [
    "polymake code to accompany the book project \"Essentials of Tropical Convexity\", http://page.math.tu-berlin.de/~joswig/etc/index.html\n",
    "\n",
    "Author: Michael Joswig"
   ]
  },
  {
   "cell_type": "code",
   "execution_count": 1,
   "metadata": {},
   "outputs": [],
   "source": [
    "application \"tropical\";"
   ]
  },
  {
   "cell_type": "code",
   "execution_count": 2,
   "metadata": {},
   "outputs": [],
   "source": [
    "$V = new Matrix<TropicalNumber<Min>>([[0,1,0],[0,4,1],[0,3,3],[0,0,2]]);\n",
    "$P = new Polytope<Min>(POINTS=>$V);"
   ]
  },
  {
   "cell_type": "code",
   "execution_count": 3,
   "metadata": {},
   "outputs": [
    {
     "data": {
      "text/plain": [
       "<{1}\n",
       "{0 2 3}\n",
       "{1}\n",
       ">\n",
       "<{2}\n",
       "{3}\n",
       "{0 1}\n",
       ">\n",
       "<{2}\n",
       "{0 3}\n",
       "{1}\n",
       ">\n",
       "<{1 2}\n",
       "{3}\n",
       "{0}\n",
       ">\n"
      ]
     },
     "execution_count": 3,
     "metadata": {},
     "output_type": "execute_result"
    },
    {
     "data": {
      "text/html": [
       "<details><summary><pre style=\"display:inline\"><small>Click here for additional output</small></pre></summary>\n",
       "<pre>\n",
       "polymake: used package ppl\n",
       "  The Parma Polyhedra Library ([[wiki:external_software#PPL]]): A C++ library for convex polyhedra\n",
       "  and other numerical abstractions.\n",
       "  http://www.cs.unipr.it/ppl/\n",
       "\n",
       "</pre>\n",
       "</details>\n"
      ]
     },
     "metadata": {},
     "output_type": "display_data"
    }
   ],
   "source": [
    "print $P->POLYTOPE_MAXIMAL_COVECTORS;"
   ]
  },
  {
   "cell_type": "code",
   "execution_count": 4,
   "metadata": {},
   "outputs": [
    {
     "data": {
      "text/plain": [
       "{1}\n",
       "{0 2 3}\n",
       "{1}\n"
      ]
     },
     "execution_count": 4,
     "metadata": {},
     "output_type": "execute_result"
    }
   ],
   "source": [
    "print $P->POLYTOPE_MAXIMAL_COVECTORS->[0];"
   ]
  },
  {
   "cell_type": "code",
   "execution_count": 5,
   "metadata": {},
   "outputs": [
    {
     "data": {
      "text/plain": [
       "{11 12}\n",
       "{3 4 5 6 9 10}\n",
       "{3 6 11}\n",
       "{5 6 7 8}\n"
      ]
     },
     "execution_count": 5,
     "metadata": {},
     "output_type": "execute_result"
    }
   ],
   "source": [
    "print $P->POLYTOPE_MAXIMAL_COVECTOR_CELLS;"
   ]
  },
  {
   "cell_type": "code",
   "execution_count": 6,
   "metadata": {},
   "outputs": [
    {
     "data": {
      "text/plain": [
       "0:0 0 1 1\n",
       "1:0 0 -1 0\n",
       "2:0 0 0 -1\n",
       "3:1 0 3 2\n",
       "4:1 0 0 2\n",
       "5:1 0 0 1\n",
       "6:1 0 2 1\n",
       "7:1 0 0 0\n",
       "8:1 0 1 0\n",
       "9:1 0 3 3\n",
       "10:1 0 1 3\n",
       "11:1 0 3 1\n",
       "12:1 0 4 1\n"
      ]
     },
     "execution_count": 6,
     "metadata": {},
     "output_type": "execute_result"
    }
   ],
   "source": [
    "print rows_numbered($P->PSEUDOVERTICES);"
   ]
  },
  {
   "cell_type": "code",
   "execution_count": 8,
   "metadata": {},
   "outputs": [
    {
     "data": {
      "text/plain": [
       "5"
      ]
     },
     "execution_count": 8,
     "metadata": {},
     "output_type": "execute_result"
    }
   ],
   "source": [
    "$D = new polytope::Polytope(POINTS=>$P->PSEUDOVERTICES->minor([3,4,5,6,9,10],~[1]));\n",
    "\n",
    "print $D->VOLUME;"
   ]
  },
  {
   "cell_type": "code",
   "execution_count": null,
   "metadata": {},
   "outputs": [],
   "source": [
    "print $P->MAXIMAL_COVECTOR_CELLS;"
   ]
  },
  {
   "cell_type": "code",
   "execution_count": null,
   "metadata": {},
   "outputs": [],
   "source": []
  }
 ],
 "metadata": {
  "kernelspec": {
   "display_name": "polymake-4.2",
   "language": "polymake",
   "name": "polymake"
  },
  "language_info": {
   "codemirror_mode": "perl",
   "file_extension": ".pl",
   "mimetype": "text/x-polymake",
   "name": "polymake"
  }
 },
 "nbformat": 4,
 "nbformat_minor": 4
}
