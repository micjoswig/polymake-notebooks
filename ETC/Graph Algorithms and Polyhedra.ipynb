{
 "cells": [
  {
   "cell_type": "markdown",
   "metadata": {},
   "source": [
    "polymake code to accompany the book project \"Essentials of Tropical Convexity\", http://page.math.tu-berlin.de/~joswig/etc/index.html\n",
    "\n",
    "Author: Michael Joswig"
   ]
  },
  {
   "cell_type": "code",
   "execution_count": 1,
   "metadata": {},
   "outputs": [],
   "source": [
    "application \"tropical\";"
   ]
  },
  {
   "cell_type": "code",
   "execution_count": 2,
   "metadata": {},
   "outputs": [
    {
     "data": {
      "text/plain": [
       "-3"
      ]
     },
     "execution_count": 2,
     "metadata": {},
     "output_type": "execute_result"
    }
   ],
   "source": [
    "$A = new Matrix<TropicalNumber<Min>>([[0,-1,2],[0,-2,-2],[0,2,0]]);\n",
    "print tdet($A);"
   ]
  },
  {
   "cell_type": "code",
   "execution_count": 3,
   "metadata": {},
   "outputs": [
    {
     "data": {
      "text/plain": [
       "-3 <1 2 0>"
      ]
     },
     "execution_count": 3,
     "metadata": {},
     "output_type": "execute_result"
    }
   ],
   "source": [
    "print tdet_and_perm($A);"
   ]
  },
  {
   "cell_type": "code",
   "execution_count": 4,
   "metadata": {},
   "outputs": [
    {
     "data": {
      "text/plain": [
       "-3"
      ]
     },
     "execution_count": 4,
     "metadata": {},
     "output_type": "execute_result"
    }
   ],
   "source": [
    "print $A->elem(0,1) * $A->elem(1,2) * $A->elem(2,0);"
   ]
  },
  {
   "cell_type": "code",
   "execution_count": 5,
   "metadata": {},
   "outputs": [
    {
     "data": {
      "text/plain": [
       "0 1 inf 0 -1 2\n",
       "inf 0 inf 0 inf -2\n",
       "inf 4 0 0 2 0\n",
       "inf inf inf 0 inf inf\n",
       "inf 2 inf 2 0 0\n",
       "inf inf inf inf inf 0\n"
      ]
     },
     "execution_count": 5,
     "metadata": {},
     "output_type": "execute_result"
    }
   ],
   "source": [
    "$A = new Matrix<TropicalNumber<Min>>([[0,\"inf\",\"inf\",0,-1,2],[\"inf\",0,\"inf\",0,\"inf\",-2],\n",
    "    [\"inf\",\"inf\",0,0,2,0],[\"inf\",\"inf\",\"inf\",0,\"inf\",\"inf\"],[\"inf\",2,\"inf\",\"inf\",0,\"inf\"],\n",
    "    [\"inf\",\"inf\",\"inf\",\"inf\",\"inf\",0]]);\n",
    "\n",
    "print $A*$A;"
   ]
  },
  {
   "cell_type": "code",
   "execution_count": 6,
   "metadata": {},
   "outputs": [],
   "source": [
    "sub m_power {\n",
    "    my ($M,$k)=@_;\n",
    "    if ($k==0) {\n",
    "        my $n = $M->rows();\n",
    "        return unit_matrix<TropicalNumber<Min>>($n);\n",
    "    } elsif ($k==1) {\n",
    "        return $M;\n",
    "    } else {\n",
    "        $k2 = int($k/2);\n",
    "        return m_power($M,$k2)*m_power($M,$k-$k2);\n",
    "    }\n",
    "}"
   ]
  },
  {
   "cell_type": "code",
   "execution_count": 7,
   "metadata": {},
   "outputs": [
    {
     "data": {
      "text/plain": [
       "true"
      ]
     },
     "execution_count": 7,
     "metadata": {},
     "output_type": "execute_result"
    }
   ],
   "source": [
    "print m_power($A,3) == m_power($A,4);"
   ]
  },
  {
   "cell_type": "code",
   "execution_count": 8,
   "metadata": {},
   "outputs": [
    {
     "data": {
      "text/plain": [
       "0 1 inf 0 -1 -1\n",
       "inf 0 inf 0 inf -2\n",
       "inf 4 0 0 2 0\n",
       "inf inf inf 0 inf inf\n",
       "inf 2 inf 2 0 0\n",
       "inf inf inf inf inf 0\n"
      ]
     },
     "execution_count": 8,
     "metadata": {},
     "output_type": "execute_result"
    }
   ],
   "source": [
    "print $A + m_power($A,2) + m_power($A,3);"
   ]
  }
 ],
 "metadata": {
  "kernelspec": {
   "display_name": "polymake-4.2",
   "language": "polymake",
   "name": "polymake"
  },
  "language_info": {
   "codemirror_mode": "perl",
   "file_extension": ".pl",
   "mimetype": "text/x-polymake",
   "name": "polymake"
  }
 },
 "nbformat": 4,
 "nbformat_minor": 4
}
