{
 "cells": [
  {
   "cell_type": "markdown",
   "id": "88f87707-b5ff-406d-ad51-f5af4bfeb429",
   "metadata": {},
   "source": [
    "# Unbounded polyhedra"
   ]
  },
  {
   "cell_type": "code",
   "execution_count": 1,
   "id": "68977da8-b021-45a1-a573-673150ba4ae7",
   "metadata": {},
   "outputs": [],
   "source": [
    "$p = new Polytope(INEQUALITIES=>[ [-1,1,0], [1,0,1], [1,0,-1]] );"
   ]
  },
  {
   "cell_type": "code",
   "execution_count": 2,
   "id": "bfcc0fd9-3a88-4deb-8048-89ff4d802d18",
   "metadata": {},
   "outputs": [
    {
     "data": {
      "text/plain": [
       "false"
      ]
     },
     "execution_count": 2,
     "metadata": {},
     "output_type": "execute_result"
    }
   ],
   "source": [
    "print $p->BOUNDED;"
   ]
  },
  {
   "cell_type": "code",
   "execution_count": 3,
   "id": "08b311f6-25b7-41fc-831b-bdef0dee60d7",
   "metadata": {},
   "outputs": [
    {
     "data": {
      "text/plain": [
       "0 1 0\n",
       "1 1 -1\n",
       "1 1 1\n"
      ]
     },
     "execution_count": 3,
     "metadata": {},
     "output_type": "execute_result"
    },
    {
     "data": {
      "text/html": [
       "<details><summary><pre style=\"display:inline\"><small>Click here for additional output</small></pre></summary>\n",
       "<pre>\n",
       "polymake: used package libnormaliz\n",
       "  [[wiki:external_software#Normaliz]] is a tool for computations in affine monoids, vector configurations, lattice polytopes, and rational cones.\n",
       "  Copyright by Winfried Bruns, Bogdan Ichim, Christof Soeger.\n",
       "  http://www.math.uos.de/normaliz/\n",
       "\n",
       "</pre>\n",
       "</details>\n"
      ]
     },
     "metadata": {},
     "output_type": "display_data"
    }
   ],
   "source": [
    "print $p->VERTICES;"
   ]
  },
  {
   "cell_type": "markdown",
   "id": "34de14d5-7a8b-414b-8e2d-3bfa90d1c384",
   "metadata": {},
   "source": [
    "Move into positive orthant."
   ]
  },
  {
   "cell_type": "code",
   "execution_count": 4,
   "id": "bf7b0945-e796-4066-a74e-ab02091eec86",
   "metadata": {},
   "outputs": [
    {
     "data": {
      "text/plain": [
       "0 1 0\n",
       "1 0 0\n",
       "1 0 2\n",
       "false"
      ]
     },
     "execution_count": 4,
     "metadata": {},
     "output_type": "execute_result"
    }
   ],
   "source": [
    "$q = orthantify($p);\n",
    "print $q->VERTICES;\n",
    "print $q->BOUNDED;"
   ]
  },
  {
   "cell_type": "code",
   "execution_count": 5,
   "id": "03144123-5653-4d0f-a644-f5bf24ea8aec",
   "metadata": {},
   "outputs": [
    {
     "data": {
      "text/plain": [
       "1 1 0\n",
       "1 0 0\n",
       "1 0 2/3\n",
       "true"
      ]
     },
     "execution_count": 5,
     "metadata": {},
     "output_type": "execute_result"
    }
   ],
   "source": [
    "$r = bound($q);\n",
    "print $r->VERTICES;\n",
    "print $r->BOUNDED;"
   ]
  },
  {
   "cell_type": "code",
   "execution_count": 6,
   "id": "77c54d97-1a55-4017-90bc-ee2c6b0e1ed7",
   "metadata": {},
   "outputs": [
    {
     "data": {
      "text/plain": [
       "true"
      ]
     },
     "execution_count": 6,
     "metadata": {},
     "output_type": "execute_result"
    },
    {
     "data": {
      "text/html": [
       "<details><summary><pre style=\"display:inline\"><small>Click here for additional output</small></pre></summary>\n",
       "<pre>\n",
       "polymake: used package bliss\n",
       "  [[wiki:external_software#bliss]] is a software for computation of automorphism groups of graphs.\n",
       "  Copyright by Tommi Junttila and Petteri Kaski.\n",
       "  http://www.tcs.hut.fi/Software/bliss/\n",
       "</pre>\n",
       "</details>\n"
      ]
     },
     "metadata": {},
     "output_type": "display_data"
    }
   ],
   "source": [
    "print isomorphic($p,$q) && isomorphic($q,$r);"
   ]
  },
  {
   "cell_type": "code",
   "execution_count": 7,
   "id": "d0026ed3-2f77-4a69-9fd3-78807d2d756c",
   "metadata": {},
   "outputs": [
    {
     "data": {
      "text/plain": [
       "There are 2 help topics matching 'isomorphic':\n",
       "-------------------\n",
       "1: polytope/functions/Comparing/isomorphic:\n",
       "isomorphic(P1, P2) -> Bool\n",
       "\n",
       " Check whether the face lattices of two cones or polytopes are isomorphic.\n",
       " The problem is reduced to graph isomorphism of the vertex-facet incidence graphs.\n",
       "\n",
       "Arguments:\n",
       "  Cone \u001b[4mP1\u001b[24m the first cone/polytope\n",
       "  Cone \u001b[4mP2\u001b[24m the second cone/polytope\n",
       "\n",
       "Returns Bool 'true' if the face lattices are isomorphic, 'false' otherwise\n",
       "\n",
       "Example:\n",
       "\n",
       "   The following compares the standard 2-cube with a polygon generated as\n",
       "    the convex hull of five points.  The return value is true since both polygons are\n",
       "    quadrangles.\n",
       "   > $p = new Polytope(POINTS=>[[1,-1,-1],[1,1,-1],[1,-1,1],[1,1,1],[1,0,0]]);\n",
       "   > print isomorphic(cube(2),$p);\n",
       "     true\n",
       "\n",
       "-------------------\n",
       "2: graph/functions/Comparing/isomorphic:\n",
       "isomorphic(IncidenceMatrix1, IncidenceMatrix2) -> Bool\n",
       "\n",
       " true if \u001b[4mIncidenceMatrix1\u001b[24m and \u001b[4mIncidenceMatrix2\u001b[24m are isomorphic.\n",
       "\n",
       "Arguments:\n",
       "  IncidenceMatrix \u001b[4mIncidenceMatrix1\u001b[24m \n",
       "  IncidenceMatrix \u001b[4mIncidenceMatrix2\u001b[24m \n",
       "\n",
       "Returns Bool \n",
       "\n",
       "Depends on:\n",
       "  bliss or nauty\n",
       "\n",
       "\n",
       "Example:\n",
       "\n",
       "   Compare the incidence matrices of the 2-dimensional cube and cross polytope:\n",
       "   > $I1 = cube(2)->VERTICES_IN_FACETS;\n",
       "   > $I2 = cross(2)->VERTICES_IN_FACETS;\n",
       "   > print isomorphic($I1,$I2);\n",
       "     true\n",
       "-----\n",
       "isomorphic(graph1, graph2) -> Bool\n",
       "\n",
       " true if \u001b[4mgraph1\u001b[24m and \u001b[4mgraph2\u001b[24m are isomorphic.\n",
       "\n",
       "Arguments:\n",
       "  GraphAdjacency \u001b[4mgraph1\u001b[24m \n",
       "  GraphAdjacency \u001b[4mgraph2\u001b[24m \n",
       "\n",
       "Returns Bool \n",
       "\n",
       "Depends on:\n",
       "  bliss or nauty\n",
       "\n",
       "\n",
       "Example:\n",
       "\n",
       "   Compare the vertex-edge graph of the square with the cycle graph on 4 nodes:\n",
       "   > $g1 = cube(2)->GRAPH->ADJACENCY;\n",
       "   > $g2 = cycle_graph(4)->ADJACENCY;\n",
       "   > print isomorphic($g1,$g2);\n",
       "     true\n",
       "\n"
      ]
     },
     "execution_count": 7,
     "metadata": {},
     "output_type": "execute_result"
    }
   ],
   "source": [
    "help \"isomorphic\";"
   ]
  },
  {
   "cell_type": "code",
   "execution_count": 8,
   "id": "1cdc78f9-a69f-4dd2-af9d-8a15c8b0e5c0",
   "metadata": {},
   "outputs": [
    {
     "data": {
      "text/plain": [
       "3 3\n",
       "3 3"
      ]
     },
     "execution_count": 8,
     "metadata": {},
     "output_type": "execute_result"
    }
   ],
   "source": [
    "print $p->F_VECTOR, \"\\n\", $r->F_VECTOR;"
   ]
  },
  {
   "cell_type": "code",
   "execution_count": 9,
   "id": "7843ee98-7a13-4a68-85f2-049bca26e21c",
   "metadata": {},
   "outputs": [
    {
     "data": {
      "text/plain": [
       "{0}"
      ]
     },
     "execution_count": 9,
     "metadata": {},
     "output_type": "execute_result"
    }
   ],
   "source": [
    "print $p->FAR_FACE;"
   ]
  },
  {
   "cell_type": "code",
   "execution_count": 10,
   "id": "460315eb-447c-48e9-8565-8cd5827fa7ca",
   "metadata": {},
   "outputs": [
    {
     "data": {
      "text/plain": [
       "{}"
      ]
     },
     "execution_count": 10,
     "metadata": {},
     "output_type": "execute_result"
    }
   ],
   "source": [
    "print $r->FAR_FACE;"
   ]
  },
  {
   "cell_type": "markdown",
   "id": "fa3c7939-58a6-423d-a88f-adf58f57df70",
   "metadata": {},
   "source": [
    "A different kind of polyhedron."
   ]
  },
  {
   "cell_type": "code",
   "execution_count": 11,
   "id": "082ec183-85d8-4b24-876e-3d2631179c56",
   "metadata": {},
   "outputs": [],
   "source": [
    "$p = new Polytope(INEQUALITIES=>[ [1,1,0], [1,0,1], [-1,0,-1]] );"
   ]
  },
  {
   "cell_type": "code",
   "execution_count": 12,
   "id": "99e98be8-447e-41c6-aea7-76c4a391a0bc",
   "metadata": {},
   "outputs": [
    {
     "data": {
      "text/plain": [
       "0 1 0\n",
       "1 -1 -1\n"
      ]
     },
     "execution_count": 12,
     "metadata": {},
     "output_type": "execute_result"
    }
   ],
   "source": [
    "print $p->VERTICES;"
   ]
  },
  {
   "cell_type": "code",
   "execution_count": 13,
   "id": "f7116584-1b34-4ce4-acf8-b8fa4f13d59b",
   "metadata": {},
   "outputs": [
    {
     "data": {
      "text/plain": [
       "1 0 1\n"
      ]
     },
     "execution_count": 13,
     "metadata": {},
     "output_type": "execute_result"
    }
   ],
   "source": [
    "print $p->AFFINE_HULL;"
   ]
  },
  {
   "cell_type": "code",
   "execution_count": 14,
   "id": "135076fa-e11f-4268-b798-e364967faa7a",
   "metadata": {},
   "outputs": [
    {
     "data": {
      "text/plain": [
       "1 1 0\n",
       "1 0 0\n"
      ]
     },
     "execution_count": 14,
     "metadata": {},
     "output_type": "execute_result"
    }
   ],
   "source": [
    "print $p->FACETS;"
   ]
  },
  {
   "cell_type": "code",
   "execution_count": 15,
   "id": "edc1e2c9-27a0-4659-bdb1-b348af0dba0c",
   "metadata": {},
   "outputs": [
    {
     "data": {
      "text/plain": [
       "Facets:\n",
       "0: x1 >= -1\n",
       "1: 0 >= -1\n",
       "\n",
       "Affine hull:\n",
       "0: x2 = -1\n",
       "\n"
      ]
     },
     "execution_count": 15,
     "metadata": {},
     "output_type": "execute_result"
    }
   ],
   "source": [
    "print_constraints($p);"
   ]
  },
  {
   "cell_type": "code",
   "execution_count": 16,
   "id": "965d1a9f-9112-4f5f-a2f0-520d0ca3657c",
   "metadata": {},
   "outputs": [
    {
     "data": {
      "text/plain": [
       "2"
      ]
     },
     "execution_count": 16,
     "metadata": {},
     "output_type": "execute_result"
    }
   ],
   "source": [
    "print $p->F_VECTOR;"
   ]
  },
  {
   "cell_type": "markdown",
   "id": "8ed2a98e-525f-4d5a-ad6a-bc6171cb24fa",
   "metadata": {},
   "source": [
    "epilogue"
   ]
  },
  {
   "cell_type": "code",
   "execution_count": 17,
   "id": "8f705523-0857-42be-93bf-797ce473b690",
   "metadata": {},
   "outputs": [],
   "source": [
    "$q = orthantify($p);"
   ]
  },
  {
   "cell_type": "code",
   "execution_count": 18,
   "id": "33b2d094-6feb-4e8a-9547-d002867cf479",
   "metadata": {},
   "outputs": [
    {
     "data": {
      "text/plain": [
       "2"
      ]
     },
     "execution_count": 18,
     "metadata": {},
     "output_type": "execute_result"
    }
   ],
   "source": [
    "print $q->F_VECTOR;"
   ]
  },
  {
   "cell_type": "code",
   "execution_count": 19,
   "id": "1dad1336-eebc-4e6e-988d-df5933f9f5b1",
   "metadata": {},
   "outputs": [
    {
     "data": {
      "text/plain": [
       "0 1 0\n",
       "1 0 0\n"
      ]
     },
     "execution_count": 19,
     "metadata": {},
     "output_type": "execute_result"
    }
   ],
   "source": [
    "print $q->VERTICES;"
   ]
  }
 ],
 "metadata": {
  "kernelspec": {
   "display_name": "polymake-4.13",
   "language": "polymake",
   "name": "polymake"
  },
  "language_info": {
   "codemirror_mode": "perl",
   "file_extension": ".pl",
   "mimetype": "text/x-polymake",
   "name": "polymake"
  }
 },
 "nbformat": 4,
 "nbformat_minor": 5
}
