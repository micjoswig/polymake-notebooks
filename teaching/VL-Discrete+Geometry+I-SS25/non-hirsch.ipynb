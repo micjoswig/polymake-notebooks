{
 "cells": [
  {
   "cell_type": "markdown",
   "id": "bc8c7e01-676b-406f-b4f5-8739cee848d4",
   "metadata": {},
   "source": [
    "# A non-Hirsch polytope\n",
    "\n",
    "Construction by Matschke, Santos & Weibel, [https://doi.org/10.1112/plms/pdu064].  polymake data downloaded from [polydb.de].\n"
   ]
  },
  {
   "cell_type": "code",
   "execution_count": 1,
   "id": "f52615c5-a288-4405-a95f-dffc7e654cd1",
   "metadata": {},
   "outputs": [
    {
     "data": {
      "text/html": [
       "<details><summary><pre style=\"display:inline\"><small>Click here for additional output</small></pre></summary>\n",
       "<pre>\n",
       "polymake: used package PolyDB\n",
       "   Access to the polyDB database for combinatorial objects.\n",
       "   (c) 2013-2023 Andreas Paffenholz\n",
       "   http://www.mathematik.tu-darmstadt.de/~paffenholz\n",
       "\n",
       "</pre>\n",
       "</details>\n"
      ]
     },
     "metadata": {},
     "output_type": "display_data"
    }
   ],
   "source": [
    "$db = polyDB();\n",
    "$collection = $db-> get_collection(\"Polytopes.Geometric.NonHirschPolytopesAndSpheres\");"
   ]
  },
  {
   "cell_type": "code",
   "execution_count": 2,
   "id": "5302d09f-6c38-4978-8bac-7175ff8edab0",
   "metadata": {},
   "outputs": [],
   "source": [
    "$msw = $collection->find_one({_id=>\"polytope_40_21\"});"
   ]
  },
  {
   "cell_type": "code",
   "execution_count": 3,
   "id": "da67cad4-f950-4021-8ed1-9a9b2b55c4fd",
   "metadata": {},
   "outputs": [
    {
     "data": {
      "text/plain": [
       "1 100 0 0 21 -7 0 0 0 0 0 0 0 0 0 0 1 1 0 0 0\n",
       "1 100 0 0 16 -15 0 0 0 0 0 0 0 0 0 0 0 1 1 0 0\n",
       "1 100 0 0 0 -32 0 0 0 0 0 0 0 0 0 0 0 0 1 1 0\n",
       "1 100 0 0 -16 -15 0 0 0 0 0 0 0 0 0 0 0 0 0 1 1\n",
       "1 100 0 0 -21 -7 0 0 0 0 0 0 0 0 0 0 0 0 0 0 0\n",
       "1 100 0 0 -20 -4 0 0 0 0 0 0 0 0 0 0 0 0 0 0 1\n",
       "1 100 0 0 0 32 0 0 0 0 0 0 0 0 0 0 0 0 0 0 0\n",
       "1 100 0 0 20 -4 0 0 0 0 0 0 0 0 0 0 0 0 0 0 0\n",
       "1 100 3/100 -1/50 0 -30 0 0 0 0 0 0 0 0 0 0 0 0 0 0 0\n",
       "1 100 -3/100 -1/50 0 30 0 0 0 0 0 0 0 0 0 0 0 0 0 0 0\n",
       "1 100 -3/2000 7/2000 0 159/5 0 0 0 0 0 0 0 0 0 1 0 0 0 0 0\n",
       "1 100 3/2000 7/2000 0 -159/5 10000000 10000000 10000000 10000000000 100000000000 100000000000 100000000000 100000000000 1 0 0 0 0 0 0\n",
       "1 100 3/2000 7/2000 0 -159/5 -10000000 0 0 0 0 0 0 0 1 0 0 0 0 0 0\n",
       "1 100 3/2000 7/2000 0 -159/5 10000000 -10000000 0 0 0 0 0 0 1 0 0 0 0 0 0\n",
       "1 100 3/2000 7/2000 0 -159/5 10000000 10000000 -10000000 0 0 0 0 0 1 0 0 0 0 0 0\n",
       "1 100 3/2000 7/2000 0 -159/5 10000000 10000000 10000000 -10000000000 0 0 0 0 1 0 0 0 0 0 0\n",
       "1 100 3/2000 7/2000 0 -159/5 10000000 10000000 10000000 10000000000 -100000000000 0 0 0 1 0 0 0 0 0 0\n",
       "1 100 3/2000 7/2000 0 -159/5 10000000 10000000 10000000 10000000000 100000000000 -100000000000 0 0 1 0 0 0 0 0 0\n",
       "1 100 3/2000 7/2000 0 -159/5 10000000 10000000 10000000 10000000000 100000000000 100000000000 -100000000000 0 1 0 0 0 0 0 0\n",
       "1 100 3/2000 7/2000 0 -159/5 10000000 10000000 10000000 10000000000 100000000000 100000000000 100000000000 -100000000000 1 0 0 0 0 0 0\n",
       "1 -100 30 0 0 0 0 0 1 1 0 0 0 0 0 0 0 0 0 0 0\n",
       "1 -100 4 -15 0 0 0 0 0 1 1 0 0 0 0 0 0 0 0 0 0\n",
       "1 -100 0 -33/2 0 0 0 0 0 0 1 1 0 0 0 0 0 0 0 0 0\n",
       "1 -100 -1 -16 0 0 0 0 0 0 0 1 1 0 0 0 0 0 0 0 0\n",
       "1 -100 -55/2 0 0 0 0 0 0 0 0 0 1 1 0 0 0 0 0 0 0\n",
       "1 -100 -17 18 0 0 0 0 0 0 0 0 0 1 0 0 0 0 0 0 0\n",
       "1 -100 0 38 0 0 0 0 0 0 0 0 0 0 0 0 0 0 0 0 0\n",
       "1 -100 22 17 0 0 0 0 0 0 0 0 0 0 0 0 0 0 0 0 0\n",
       "1 -100 -10 0 1/5 -1/5 0 0 0 0 0 0 0 0 0 0 0 0 0 0 0\n",
       "1 -100 2999/100 0 -3/25 -1/5 0 0 1 0 0 0 0 0 0 0 0 0 0 0 0\n",
       "1 -100 299999/10000 0 0 1/100 0 1 0 0 0 0 0 0 0 0 0 0 0 0 0\n",
       "1 -100 -549/20 0 1/5000 1/800 1 0 0 0 0 0 0 0 0 0 0 0 0 0 0\n",
       "1 -100 -27 0 1/500 -1/80 0 0 0 0 0 0 0 0 100000 10000000 10000000 10000000 100000000 100000000 1000000000\n",
       "1 -100 -27 0 1/500 -1/80 0 0 0 0 0 0 0 0 -100000 0 0 0 0 0 0\n",
       "1 -100 -27 0 1/500 -1/80 0 0 0 0 0 0 0 0 100000 -10000000 0 0 0 0 0\n",
       "1 -100 -27 0 1/500 -1/80 0 0 0 0 0 0 0 0 100000 10000000 -10000000 0 0 0 0\n",
       "1 -100 -27 0 1/500 -1/80 0 0 0 0 0 0 0 0 100000 10000000 10000000 -10000000 0 0 0\n",
       "1 -100 -27 0 1/500 -1/80 0 0 0 0 0 0 0 0 100000 10000000 10000000 10000000 -100000000 0 0\n",
       "1 -100 -27 0 1/500 -1/80 0 0 0 0 0 0 0 0 100000 10000000 10000000 10000000 100000000 -100000000 0\n",
       "1 -100 -27 0 1/500 -1/80 0 0 0 0 0 0 0 0 100000 10000000 10000000 10000000 100000000 100000000 -1000000000\n"
      ]
     },
     "execution_count": 3,
     "metadata": {},
     "output_type": "execute_result"
    }
   ],
   "source": [
    "print $msw->FACETS;"
   ]
  },
  {
   "cell_type": "code",
   "execution_count": 4,
   "id": "8e72fb6b-e9b3-4d6e-805f-e75d8c25372b",
   "metadata": {},
   "outputs": [
    {
     "data": {
      "text/plain": [
       "20"
      ]
     },
     "execution_count": 4,
     "metadata": {},
     "output_type": "execute_result"
    }
   ],
   "source": [
    "print $msw->DIM;"
   ]
  },
  {
   "cell_type": "code",
   "execution_count": 5,
   "id": "1fc9f393-c1d7-4c52-af0f-617df1cc347a",
   "metadata": {},
   "outputs": [
    {
     "data": {
      "text/plain": [
       "21"
      ]
     },
     "execution_count": 5,
     "metadata": {},
     "output_type": "execute_result"
    }
   ],
   "source": [
    "print $msw->DIAMETER;"
   ]
  },
  {
   "cell_type": "code",
   "execution_count": 6,
   "id": "421c3fdb-bc7a-477f-a204-f3e1236a222a",
   "metadata": {},
   "outputs": [
    {
     "data": {
      "text/plain": [
       "0:36425 1:364250 2:1846226 3:6234909 4:15556845 5:30191256 6:46918071 7:59410131 8:61931131 9:53428829 10:38194318 11:22569116 12:10954980 13:4322157 14:1364130 15:336525 16:62752 17:8419 18:754 19:40"
      ]
     },
     "execution_count": 6,
     "metadata": {},
     "output_type": "execute_result"
    }
   ],
   "source": [
    "print numbered($msw->F_VECTOR);"
   ]
  }
 ],
 "metadata": {
  "kernelspec": {
   "display_name": "polymake-4.13",
   "language": "polymake",
   "name": "polymake"
  },
  "language_info": {
   "codemirror_mode": "perl",
   "file_extension": ".pl",
   "mimetype": "text/x-polymake",
   "name": "polymake"
  }
 },
 "nbformat": 4,
 "nbformat_minor": 5
}
