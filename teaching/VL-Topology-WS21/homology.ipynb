{
 "cells": [
  {
   "cell_type": "markdown",
   "id": "a2a8689b",
   "metadata": {},
   "source": [
    "In polymake the functions related to combinatorial topology are collected in the [application topaz](https://polymake.org/doku.php/user_guide/tutorials/apps_topaz)."
   ]
  },
  {
   "cell_type": "code",
   "execution_count": 1,
   "id": "33f860dd",
   "metadata": {},
   "outputs": [],
   "source": [
    "application \"topaz\";"
   ]
  },
  {
   "cell_type": "markdown",
   "id": "8bcc9800",
   "metadata": {},
   "source": [
    "Vertex indices start at 0 and are numbered consecutively.  Specifying 'FACETS' really requies to list the maximal faces only; without redundancy or duplication.  Use 'INPUT_FACES' instead if you are not sure about your input."
   ]
  },
  {
   "cell_type": "code",
   "execution_count": 2,
   "id": "5edfc6f8",
   "metadata": {},
   "outputs": [],
   "source": [
    "$K = new SimplicialComplex(FACETS=>[[0,1],[0,3],[1,2,3]]);"
   ]
  },
  {
   "cell_type": "markdown",
   "id": "9aa81425",
   "metadata": {},
   "source": [
    "'HOMOLOGY' means reduced integral homology.  For this setup the 0th homology is trivial if and only if the complex is connected.  The function 'rows_labeled' makes the dimensions visible."
   ]
  },
  {
   "cell_type": "code",
   "execution_count": 3,
   "id": "d6f2a196",
   "metadata": {},
   "outputs": [
    {
     "data": {
      "text/plain": [
       "0:{} 0\n",
       "1:{} 1\n",
       "2:{} 0\n"
      ]
     },
     "execution_count": 3,
     "metadata": {},
     "output_type": "execute_result"
    }
   ],
   "source": [
    "print rows_labeled($K->HOMOLOGY);"
   ]
  },
  {
   "cell_type": "markdown",
   "id": "7bb340d6",
   "metadata": {},
   "source": [
    "polymake can compute fundamental groups (via edge groups), but the encoding is a bit involved.  Use OSCAR instead for nicer output."
   ]
  },
  {
   "cell_type": "code",
   "execution_count": 4,
   "id": "3e17a873",
   "metadata": {},
   "outputs": [
    {
     "data": {
      "text/plain": [
       "2 {{(1 1) (0 -1)}}"
      ]
     },
     "execution_count": 4,
     "metadata": {},
     "output_type": "execute_result"
    }
   ],
   "source": [
    "print $K->FUNDAMENTAL_GROUP;"
   ]
  },
  {
   "cell_type": "code",
   "execution_count": 5,
   "id": "137688f9",
   "metadata": {},
   "outputs": [
    {
     "data": {
      "text/plain": [
       "4 5 1"
      ]
     },
     "execution_count": 5,
     "metadata": {},
     "output_type": "execute_result"
    }
   ],
   "source": [
    "print $K->F_VECTOR;"
   ]
  },
  {
   "cell_type": "markdown",
   "id": "8ca4cd8d",
   "metadata": {},
   "source": [
    "Like homology, the Euler characteristic is reduced, too.  Meaning, $f_{-1}(K)=1$ for the empty set is taken into account."
   ]
  },
  {
   "cell_type": "code",
   "execution_count": 6,
   "id": "65cfd26a",
   "metadata": {},
   "outputs": [
    {
     "data": {
      "text/plain": [
       "-1"
      ]
     },
     "execution_count": 6,
     "metadata": {},
     "output_type": "execute_result"
    }
   ],
   "source": [
    "print $K->EULER_CHARACTERISTIC;"
   ]
  }
 ],
 "metadata": {
  "kernelspec": {
   "display_name": "polymake-4.6",
   "language": "polymake",
   "name": "polymake"
  },
  "language_info": {
   "codemirror_mode": "perl",
   "file_extension": ".pl",
   "mimetype": "text/x-polymake",
   "name": "polymake"
  }
 },
 "nbformat": 4,
 "nbformat_minor": 5
}
