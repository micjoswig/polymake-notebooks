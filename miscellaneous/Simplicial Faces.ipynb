{
 "cells": [
  {
   "cell_type": "markdown",
   "id": "8cb365a2-0311-4d54-9d91-1456f33f86a3",
   "metadata": {},
   "source": [
    "The $f$-vector of a polytope counts the faces per dimension.  Here is an example."
   ]
  },
  {
   "cell_type": "code",
   "execution_count": 1,
   "id": "ecb7230f-a2c2-43a2-8e30-690c3ec8353f",
   "metadata": {},
   "outputs": [
    {
     "data": {
      "text/plain": [
       "12 24 14"
      ]
     },
     "execution_count": 1,
     "metadata": {},
     "output_type": "execute_result"
    },
    {
     "data": {
      "text/html": [
       "<details><summary><pre style=\"display:inline\"><small>Click here for additional output</small></pre></summary>\n",
       "<pre>\n",
       "polymake: used package libnormaliz\n",
       "  [[wiki:external_software#Normaliz]] is a tool for computations in affine monoids, vector configurations, lattice polytopes, and rational cones.\n",
       "  Copyright by Winfried Bruns, Bogdan Ichim, Christof Soeger.\n",
       "  http://www.math.uos.de/normaliz/\n",
       "\n",
       "</pre>\n",
       "</details>\n"
      ]
     },
     "metadata": {},
     "output_type": "display_data"
    }
   ],
   "source": [
    "$P = cuboctahedron();\n",
    "print $P->F_VECTOR;"
   ]
  },
  {
   "cell_type": "markdown",
   "id": "89f1ff74-fb65-4210-ad13-9530df04faeb",
   "metadata": {},
   "source": [
    "The following code counts the number of simplicial faces only."
   ]
  },
  {
   "cell_type": "code",
   "execution_count": 2,
   "id": "8471a327-230b-4dd8-b7d9-5d620bcc154d",
   "metadata": {},
   "outputs": [],
   "source": [
    "sub simplicial_faces($) {\n",
    "  my ($this) = @_;\n",
    "  my $H = $this->HASSE_DIAGRAM;\n",
    "  my $rk = $H->rank();\n",
    "  my $n = $H->N_NODES;\n",
    "  my $f = new Array<Int>($rk-1);\n",
    "  for (my $i=0; $i<$n; ++$i) {\n",
    "    next if $i==$H->TOP_NODE || $i==$H->BOTTOM_NODE;\n",
    "    my @dec = @{$P->HASSE_DIAGRAM->DECORATION->[$i]};\n",
    "    my $k = $dec[1]-1;\n",
    "    ++$f->[$k] if $dec[0]->size()==$k+1; \n",
    "  }\n",
    "  return $f;\n",
    "}"
   ]
  },
  {
   "cell_type": "code",
   "execution_count": 3,
   "id": "3921ebdd-cd83-4727-88a9-de616e570dca",
   "metadata": {},
   "outputs": [
    {
     "data": {
      "text/plain": [
       "12 24 8"
      ]
     },
     "execution_count": 3,
     "metadata": {},
     "output_type": "execute_result"
    }
   ],
   "source": [
    "print simplicial_faces($P);"
   ]
  }
 ],
 "metadata": {
  "kernelspec": {
   "display_name": "polymake-4.11",
   "language": "polymake",
   "name": "polymake"
  },
  "language_info": {
   "codemirror_mode": "perl",
   "file_extension": ".pl",
   "mimetype": "text/x-polymake",
   "name": "polymake"
  }
 },
 "nbformat": 4,
 "nbformat_minor": 5
}
